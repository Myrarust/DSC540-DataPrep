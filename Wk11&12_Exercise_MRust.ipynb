{
 "cells": [
  {
   "cell_type": "code",
   "execution_count": 1,
   "metadata": {},
   "outputs": [],
   "source": [
    "# import necessary libraries\n",
    "import sqlite3"
   ]
  },
  {
   "cell_type": "code",
   "execution_count": 7,
   "metadata": {},
   "outputs": [
    {
     "name": "stdout",
     "output_type": "stream",
     "text": [
      "(1, 'Erica', None, 22, 'south port', 2345678)\n",
      "(2, 'Jordi', None, 73, 'east port', 123456)\n",
      "(3, 'Chasity', None, 70, 'new port', 76856785)\n",
      "(4, 'Gregg', None, 31, 'new port', 76856785)\n",
      "(5, 'Tony', 'Lindgren', 7, 'west port', 2345678)\n"
     ]
    }
   ],
   "source": [
    "# Check if the connection to the db is successful by printing the first 5 rows of the persons table\n",
    "with sqlite3.connect(\"petsdb\") as conn:\n",
    "    cursor = conn.cursor()\n",
    "    rows = cursor.execute('SELECT * FROM persons LIMIT 5')\n",
    "    for row in rows:\n",
    "        print(row)"
   ]
  },
  {
   "cell_type": "code",
   "execution_count": 8,
   "metadata": {},
   "outputs": [
    {
     "name": "stdout",
     "output_type": "stream",
     "text": [
      "(2, 5)\n",
      "(1, 6)\n",
      "(1, 7)\n",
      "(3, 8)\n",
      "(1, 9)\n",
      "(2, 11)\n",
      "(3, 12)\n",
      "(1, 13)\n",
      "(4, 14)\n",
      "(2, 16)\n",
      "(2, 17)\n",
      "(3, 18)\n",
      "(1, 19)\n",
      "(3, 22)\n",
      "(2, 23)\n",
      "(3, 24)\n",
      "(2, 25)\n",
      "(1, 27)\n",
      "(1, 30)\n",
      "(3, 31)\n",
      "(1, 32)\n",
      "(1, 33)\n",
      "(2, 34)\n",
      "(3, 35)\n",
      "(3, 36)\n",
      "(1, 37)\n",
      "(2, 39)\n",
      "(1, 40)\n",
      "(1, 42)\n",
      "(2, 44)\n",
      "(2, 48)\n",
      "(1, 49)\n",
      "(1, 50)\n",
      "(2, 51)\n",
      "(2, 52)\n",
      "(2, 53)\n",
      "(2, 54)\n",
      "(1, 58)\n",
      "(1, 59)\n",
      "(1, 60)\n",
      "(1, 61)\n",
      "(2, 62)\n",
      "(1, 63)\n",
      "(2, 65)\n",
      "(2, 66)\n",
      "(1, 67)\n",
      "(3, 68)\n",
      "(1, 69)\n",
      "(1, 70)\n",
      "(4, 71)\n",
      "(1, 72)\n",
      "(5, 73)\n",
      "(3, 74)\n"
     ]
    }
   ],
   "source": [
    "# Use the group by function to count the different ages in the persons table\n",
    "with sqlite3.connect(\"petsdb\") as conn:\n",
    "    cursor = conn.cursor()\n",
    "    rows = cursor.execute('SELECT COUNT(*), age FROM persons GROUP BY age')\n",
    "    for row in rows:\n",
    "        print(row)"
   ]
  },
  {
   "cell_type": "code",
   "execution_count": 11,
   "metadata": {},
   "outputs": [
    {
     "name": "stdout",
     "output_type": "stream",
     "text": [
      "(5, 73)\n",
      "(4, 71)\n",
      "(4, 14)\n",
      "(3, 74)\n",
      "(3, 68)\n",
      "(3, 36)\n",
      "(3, 35)\n",
      "(3, 31)\n",
      "(3, 24)\n",
      "(3, 22)\n",
      "(3, 18)\n",
      "(3, 12)\n",
      "(3, 8)\n",
      "(2, 66)\n",
      "(2, 65)\n",
      "(2, 62)\n",
      "(2, 54)\n",
      "(2, 53)\n",
      "(2, 52)\n",
      "(2, 51)\n",
      "(2, 48)\n",
      "(2, 44)\n",
      "(2, 39)\n",
      "(2, 34)\n",
      "(2, 25)\n",
      "(2, 23)\n",
      "(2, 17)\n",
      "(2, 16)\n",
      "(2, 11)\n",
      "(2, 5)\n",
      "(1, 72)\n",
      "(1, 70)\n",
      "(1, 69)\n",
      "(1, 67)\n",
      "(1, 63)\n",
      "(1, 61)\n",
      "(1, 60)\n",
      "(1, 59)\n",
      "(1, 58)\n",
      "(1, 50)\n",
      "(1, 49)\n",
      "(1, 42)\n",
      "(1, 40)\n",
      "(1, 37)\n",
      "(1, 33)\n",
      "(1, 32)\n",
      "(1, 30)\n",
      "(1, 27)\n",
      "(1, 19)\n",
      "(1, 13)\n",
      "(1, 9)\n",
      "(1, 7)\n",
      "(1, 6)\n"
     ]
    }
   ],
   "source": [
    "# Use the ORDER BY function to see which age group has the most people in it\n",
    "with sqlite3.connect(\"petsdb\") as conn:\n",
    "    cursor = conn.cursor()\n",
    "    rows = cursor.execute('SELECT COUNT(*), age FROM persons GROUP BY age ORDER BY COUNT(*) DESC')\n",
    "    for row in rows:\n",
    "        print(row)"
   ]
  },
  {
   "cell_type": "code",
   "execution_count": 17,
   "metadata": {},
   "outputs": [
    {
     "name": "stdout",
     "output_type": "stream",
     "text": [
      "(1, 'Erica', None, 22, 'south port', 2345678)\n",
      "(2, 'Jordi', None, 73, 'east port', 123456)\n",
      "(3, 'Chasity', None, 70, 'new port', 76856785)\n",
      "(4, 'Gregg', None, 31, 'new port', 76856785)\n",
      "(6, 'Cary', None, 73, 'new port', 76856785)\n",
      "(8, 'Francisca', None, 14, 'west port', 123456)\n",
      "(10, 'Raleigh', None, 68, 'new port', 2345678)\n",
      "(11, 'Maria', None, 42, 'west port', 123456)\n",
      "(12, 'Mariane', None, 62, 'south port', 9756543)\n",
      "(13, 'Mona', None, 44, 'south port', 76856785)\n",
      "(14, 'Kayla', None, 36, 'south port', 2345678)\n",
      "(15, 'Karlie', None, 35, 'west port', 123456)\n",
      "(16, 'Morris', None, 71, 'west port', 76856785)\n",
      "(17, 'Sandy', None, 23, 'east port', 2345678)\n",
      "(18, 'Hector', None, 63, 'east port', 9756543)\n",
      "(19, 'Hiram', None, 52, 'west port', 2345678)\n",
      "(20, 'Tressa', None, 59, 'new port', 123456)\n",
      "(21, 'Berry', None, 22, 'south port', 2345678)\n",
      "(22, 'Pearline', None, 73, 'new port', 9756543)\n",
      "(23, 'Maynard', None, 25, 'east port', 123456)\n",
      "(24, 'Dorian', None, 40, 'east port', 123456)\n",
      "(25, 'Mylene', None, 5, 'east port', 76856785)\n",
      "(26, 'Lafayette', None, 34, 'new port', 2345678)\n",
      "(29, 'Tara', None, 39, 'west port', 123456)\n",
      "(30, 'Destiny', None, 18, 'south port', 2345678)\n",
      "(31, 'Lesly', None, 31, 'west port', 123456)\n",
      "(32, 'Perry', None, 19, 'south port', 76856785)\n",
      "(35, 'Maritza', None, 73, 'east port', 9756543)\n",
      "(37, 'Grant', None, 61, 'east port', 76856785)\n",
      "(39, 'Laury', None, 17, 'east port', 9756543)\n",
      "(40, 'Name', None, 52, 'east port', 9756543)\n",
      "(41, 'Estefania', None, 32, 'new port', 76856785)\n",
      "(42, 'Destiney', None, 65, 'west port', 2345678)\n",
      "(43, 'Jaquelin', None, 73, 'west port', 9756543)\n",
      "(45, 'Alfonzo', None, 16, 'east port', 2345678)\n",
      "(46, 'Lisandro', None, 11, 'new port', 76856785)\n",
      "(49, 'Priscilla', None, 65, 'east port', 76856785)\n",
      "(50, 'Elenora', None, 11, 'new port', 76856785)\n",
      "(52, 'Rudolph', None, 14, 'east port', 76856785)\n",
      "(56, 'Ona', None, 35, 'east port', 9756543)\n",
      "(57, 'Rebeca', None, 50, 'new port', 76856785)\n",
      "(59, 'Sigurd', None, 12, 'west port', 76856785)\n",
      "(63, 'Alice', None, 8, 'west port', 76856785)\n",
      "(64, 'Dane', None, 24, 'west port', 9756543)\n",
      "(65, 'Judge', None, 17, 'south port', 76856785)\n",
      "(66, 'Allene', None, 9, 'new port', 9756543)\n",
      "(67, 'Jalen', None, 33, 'new port', 2345678)\n",
      "(70, 'Myron', None, 36, 'new port', 9756543)\n",
      "(73, 'Travon', None, 16, 'south port', 2345678)\n",
      "(74, 'Shayna', None, 60, 'new port', 2345678)\n",
      "(75, 'Myah', None, 14, 'east port', 2345678)\n",
      "(82, 'Letha', None, 44, 'new port', 9756543)\n",
      "(84, 'Felton', None, 74, 'east port', 2345678)\n",
      "(85, 'London', None, 66, 'east port', 9756543)\n",
      "(86, 'Koby', None, 31, 'west port', 9756543)\n",
      "(87, 'Golden', None, 35, 'east port', 76856785)\n",
      "(89, 'Anissa', None, 8, 'south port', 76856785)\n",
      "(91, 'Sid', None, 22, 'west port', 123456)\n",
      "(96, 'Ernesto', None, 69, 'east port', 9756543)\n",
      "(97, 'Josianne', None, 14, 'west port', 76856785)\n"
     ]
    }
   ],
   "source": [
    "# Use the select function with a conditional to find all the people who don't have a last name\n",
    "with sqlite3.connect(\"petsdb\") as conn:\n",
    "    cursor = conn.cursor()\n",
    "    rows = cursor.execute('SELECT * FROM persons WHERE last_name IS NULL')\n",
    "    for row in rows:\n",
    "        print(row)"
   ]
  },
  {
   "cell_type": "code",
   "execution_count": 19,
   "metadata": {},
   "outputs": [
    {
     "ename": "OperationalError",
     "evalue": "near \"WHERE\": syntax error",
     "output_type": "error",
     "traceback": [
      "\u001b[1;31m---------------------------------------------------------------------------\u001b[0m",
      "\u001b[1;31mOperationalError\u001b[0m                          Traceback (most recent call last)",
      "\u001b[1;32m<ipython-input-19-614b66e31420>\u001b[0m in \u001b[0;36m<module>\u001b[1;34m\u001b[0m\n\u001b[0;32m      2\u001b[0m \u001b[1;32mwith\u001b[0m \u001b[0msqlite3\u001b[0m\u001b[1;33m.\u001b[0m\u001b[0mconnect\u001b[0m\u001b[1;33m(\u001b[0m\u001b[1;34m\"petsdb\"\u001b[0m\u001b[1;33m)\u001b[0m \u001b[1;32mas\u001b[0m \u001b[0mconn\u001b[0m\u001b[1;33m:\u001b[0m\u001b[1;33m\u001b[0m\u001b[1;33m\u001b[0m\u001b[0m\n\u001b[0;32m      3\u001b[0m     \u001b[0mcursor\u001b[0m \u001b[1;33m=\u001b[0m \u001b[0mconn\u001b[0m\u001b[1;33m.\u001b[0m\u001b[0mcursor\u001b[0m\u001b[1;33m(\u001b[0m\u001b[1;33m)\u001b[0m\u001b[1;33m\u001b[0m\u001b[1;33m\u001b[0m\u001b[0m\n\u001b[1;32m----> 4\u001b[1;33m     \u001b[0mrows\u001b[0m \u001b[1;33m=\u001b[0m \u001b[0mcursor\u001b[0m\u001b[1;33m.\u001b[0m\u001b[0mexecute\u001b[0m\u001b[1;33m(\u001b[0m\u001b[1;34m'SELECT COUNT(*), owner_id FROM pets GROUP BY owner_id WHERE COUNT(*) > 1'\u001b[0m\u001b[1;33m)\u001b[0m\u001b[1;33m\u001b[0m\u001b[1;33m\u001b[0m\u001b[0m\n\u001b[0m\u001b[0;32m      5\u001b[0m     \u001b[1;32mfor\u001b[0m \u001b[0mrow\u001b[0m \u001b[1;32min\u001b[0m \u001b[0mrows\u001b[0m\u001b[1;33m:\u001b[0m\u001b[1;33m\u001b[0m\u001b[1;33m\u001b[0m\u001b[0m\n\u001b[0;32m      6\u001b[0m         \u001b[0mprint\u001b[0m\u001b[1;33m(\u001b[0m\u001b[0mrow\u001b[0m\u001b[1;33m)\u001b[0m\u001b[1;33m\u001b[0m\u001b[1;33m\u001b[0m\u001b[0m\n",
      "\u001b[1;31mOperationalError\u001b[0m: near \"WHERE\": syntax error"
     ]
    }
   ],
   "source": [
    "# Count the occurrences of owner_id in the pets table to find out how many people have more than one pet\n",
    "with sqlite3.connect(\"petsdb\") as conn:\n",
    "    cursor = conn.cursor()\n",
    "    rows = cursor.execute('SELECT COUNT(*), owner_id FROM pets GROUP BY owner_id WHERE COUNT(*) > 1')\n",
    "    for row in rows:\n",
    "        print(row)"
   ]
  },
  {
   "cell_type": "code",
   "execution_count": 21,
   "metadata": {},
   "outputs": [
    {
     "ename": "OperationalError",
     "evalue": "near \"WHERE\": syntax error",
     "output_type": "error",
     "traceback": [
      "\u001b[1;31m---------------------------------------------------------------------------\u001b[0m",
      "\u001b[1;31mOperationalError\u001b[0m                          Traceback (most recent call last)",
      "\u001b[1;32m<ipython-input-21-2f8da79df7a6>\u001b[0m in \u001b[0;36m<module>\u001b[1;34m\u001b[0m\n\u001b[0;32m      2\u001b[0m \u001b[1;32mwith\u001b[0m \u001b[0msqlite3\u001b[0m\u001b[1;33m.\u001b[0m\u001b[0mconnect\u001b[0m\u001b[1;33m(\u001b[0m\u001b[1;34m\"petsdb\"\u001b[0m\u001b[1;33m)\u001b[0m \u001b[1;32mas\u001b[0m \u001b[0mconn\u001b[0m\u001b[1;33m:\u001b[0m\u001b[1;33m\u001b[0m\u001b[1;33m\u001b[0m\u001b[0m\n\u001b[0;32m      3\u001b[0m     \u001b[0mcursor\u001b[0m \u001b[1;33m=\u001b[0m \u001b[0mconn\u001b[0m\u001b[1;33m.\u001b[0m\u001b[0mcursor\u001b[0m\u001b[1;33m(\u001b[0m\u001b[1;33m)\u001b[0m\u001b[1;33m\u001b[0m\u001b[1;33m\u001b[0m\u001b[0m\n\u001b[1;32m----> 4\u001b[1;33m     \u001b[0mrows\u001b[0m \u001b[1;33m=\u001b[0m \u001b[0mcursor\u001b[0m\u001b[1;33m.\u001b[0m\u001b[0mexecute\u001b[0m\u001b[1;33m(\u001b[0m\u001b[1;34m'SELECT owner_id, COUNT(*) as count FROM pets GROUP BY owner_id WHERE count(*) > 1'\u001b[0m\u001b[1;33m)\u001b[0m\u001b[1;33m\u001b[0m\u001b[1;33m\u001b[0m\u001b[0m\n\u001b[0m\u001b[0;32m      5\u001b[0m     \u001b[1;32mfor\u001b[0m \u001b[0mrow\u001b[0m \u001b[1;32min\u001b[0m \u001b[0mrows\u001b[0m\u001b[1;33m:\u001b[0m\u001b[1;33m\u001b[0m\u001b[1;33m\u001b[0m\u001b[0m\n\u001b[0;32m      6\u001b[0m         \u001b[0mprint\u001b[0m\u001b[1;33m(\u001b[0m\u001b[0mrow\u001b[0m\u001b[1;33m)\u001b[0m\u001b[1;33m\u001b[0m\u001b[1;33m\u001b[0m\u001b[0m\n",
      "\u001b[1;31mOperationalError\u001b[0m: near \"WHERE\": syntax error"
     ]
    }
   ],
   "source": [
    "# Ok, I need to select owner_id, then group by owner_id, then count the occurrences\n",
    "with sqlite3.connect(\"petsdb\") as conn:\n",
    "    cursor = conn.cursor()\n",
    "    rows = cursor.execute('SELECT owner_id, COUNT(*) as count FROM pets GROUP BY owner_id WHERE count(*) > 1')\n",
    "    for row in rows:\n",
    "        print(row)"
   ]
  },
  {
   "cell_type": "code",
   "execution_count": 24,
   "metadata": {},
   "outputs": [
    {
     "name": "stdout",
     "output_type": "stream",
     "text": [
      "(2, 3)\n",
      "(5, 3)\n",
      "(6, 2)\n",
      "(7, 3)\n",
      "(9, 2)\n",
      "(10, 3)\n",
      "(13, 2)\n",
      "(14, 2)\n",
      "(16, 2)\n",
      "(18, 2)\n",
      "(20, 2)\n",
      "(21, 3)\n",
      "(24, 2)\n",
      "(25, 3)\n",
      "(26, 2)\n",
      "(27, 5)\n",
      "(28, 2)\n",
      "(31, 2)\n",
      "(33, 3)\n",
      "(35, 3)\n",
      "(36, 3)\n",
      "(37, 4)\n",
      "(38, 2)\n",
      "(39, 2)\n",
      "(40, 4)\n",
      "(42, 3)\n",
      "(43, 3)\n",
      "(45, 2)\n",
      "(48, 2)\n",
      "(49, 2)\n",
      "(50, 3)\n",
      "(51, 3)\n",
      "(53, 2)\n",
      "(56, 5)\n",
      "(57, 3)\n",
      "(58, 2)\n",
      "(60, 3)\n",
      "(64, 3)\n",
      "(67, 2)\n",
      "(86, 2)\n",
      "(98, 3)\n",
      "(99, 3)\n",
      "(100, 2)\n"
     ]
    }
   ],
   "source": [
    "# The where conditional is causing me problems, so I'm going to try the having conditional\n",
    "with sqlite3.connect(\"petsdb\") as conn:\n",
    "    cursor = conn.cursor()\n",
    "    rows = cursor.execute('SELECT owner_id, COUNT(*) owner_id FROM pets GROUP BY owner_id HAVING count(*) > 1')\n",
    "    for row in rows:\n",
    "        print(row)"
   ]
  },
  {
   "cell_type": "code",
   "execution_count": 30,
   "metadata": {},
   "outputs": [
    {
     "name": "stdout",
     "output_type": "stream",
     "text": [
      "(43,)\n"
     ]
    }
   ],
   "source": [
    "# Ok, getting closer, but I actually just want to count the number of people with more than one pet, not print out all the \n",
    "# owner_ids with more than one pet. I had to peek at the solutions file for this one, my mind was having a hard time \n",
    "# figuring out the layers of this query. \n",
    "with sqlite3.connect(\"petsdb\") as conn:\n",
    "    cursor = conn.cursor()\n",
    "    rows = cursor.execute('SELECT COUNT(*) FROM (SELECT count(owner_id) FROM pets GROUP BY owner_id HAVING count(owner_id) > 1)')\n",
    "    for row in rows:\n",
    "        print(row)"
   ]
  },
  {
   "cell_type": "code",
   "execution_count": 38,
   "metadata": {},
   "outputs": [
    {
     "name": "stdout",
     "output_type": "stream",
     "text": [
      "(36,)\n"
     ]
    }
   ],
   "source": [
    "# Use select, count, and where to find out how many pets have received treatment.\n",
    "with sqlite3.connect(\"petsdb\") as conn:\n",
    "    cursor = conn.cursor()\n",
    "    rows = cursor.execute('SELECT COUNT(*) FROM pets WHERE treatment_done = 1')\n",
    "    for row in rows:\n",
    "        print(row)"
   ]
  },
  {
   "cell_type": "code",
   "execution_count": 41,
   "metadata": {},
   "outputs": [
    {
     "name": "stdout",
     "output_type": "stream",
     "text": [
      "(16,)\n"
     ]
    }
   ],
   "source": [
    "# Build on the above query and find out how many of those pets receiving treatment have a type != NaN\n",
    "with sqlite3.connect(\"petsdb\") as conn:\n",
    "    cursor = conn.cursor()\n",
    "    rows = cursor.execute('SELECT COUNT(*) FROM pets WHERE treatment_done = 1 AND pet_type IS NOT NULL')\n",
    "    for row in rows:\n",
    "        print(row)"
   ]
  },
  {
   "cell_type": "code",
   "execution_count": 45,
   "metadata": {},
   "outputs": [
    {
     "name": "stdout",
     "output_type": "stream",
     "text": [
      "(49,)\n"
     ]
    }
   ],
   "source": [
    "# To find out how many pets are from east port, I'm going to have to use join because I need information from both \n",
    "# tables (city from persons, connects by owner_id to pets) to complete the query by counting the number of occurrences of \n",
    "# owner_id that meet the query criteria. \n",
    "with sqlite3.connect(\"petsdb\") as conn:\n",
    "    cursor = conn.cursor()\n",
    "    rows = cursor.execute(\"SELECT count(*) FROM pets JOIN persons ON pets.owner_id = persons.id WHERE persons.city='east port'\")\n",
    "    for row in rows:\n",
    "        print(row)"
   ]
  },
  {
   "cell_type": "code",
   "execution_count": 46,
   "metadata": {},
   "outputs": [
    {
     "name": "stdout",
     "output_type": "stream",
     "text": [
      "(11,)\n"
     ]
    }
   ],
   "source": [
    "# Now building on the last query, add in the conditional that the pet has received treatment and count those\n",
    "with sqlite3.connect(\"petsdb\") as conn:\n",
    "    cursor = conn.cursor()\n",
    "    rows = cursor.execute(\"SELECT count(*) FROM pets JOIN persons ON pets.owner_id = persons.id WHERE persons.city='east port' AND pets.treatment_done=1\")\n",
    "    for row in rows:\n",
    "        print(row)"
   ]
  }
 ],
 "metadata": {
  "kernelspec": {
   "display_name": "Python 3",
   "language": "python",
   "name": "python3"
  },
  "language_info": {
   "codemirror_mode": {
    "name": "ipython",
    "version": 3
   },
   "file_extension": ".py",
   "mimetype": "text/x-python",
   "name": "python",
   "nbconvert_exporter": "python",
   "pygments_lexer": "ipython3",
   "version": "3.8.3"
  }
 },
 "nbformat": 4,
 "nbformat_minor": 4
}
