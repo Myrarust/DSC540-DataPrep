{
 "cells": [
  {
   "cell_type": "code",
   "execution_count": 1,
   "metadata": {},
   "outputs": [],
   "source": [
    "import random\n",
    "import statistics"
   ]
  },
  {
   "cell_type": "code",
   "execution_count": 26,
   "metadata": {},
   "outputs": [
    {
     "name": "stdout",
     "output_type": "stream",
     "text": [
      "[11, 54, 39, 35, 62, 61, 69, 79, 36, 11, 35, 54, 19, 25, 23, 16, 31, 83, 22, 54, 63, 30, 68, 80, 39, 70, 76, 77, 45, 85, 91, 85, 71, 84, 37, 2, 62, 37, 22, 75, 41, 83, 6, 91, 29, 30, 68, 4, 20, 7, 80, 80, 92, 84, 99, 66, 95, 23, 47, 17, 52, 29, 2, 100, 24, 20, 62, 54, 11, 58, 35, 26, 89, 93, 17, 88, 86, 52, 18, 57, 60, 6, 43, 34, 84, 47, 24, 20, 57, 52, 25, 66, 95, 53, 23, 69, 2, 67, 45, 45]\n"
     ]
    }
   ],
   "source": [
    "# Create a list of 100 random numbers\n",
    "list_1 = [random.randint(0, 100) for x in range (0, 100)]\n",
    "print(list_1)"
   ]
  },
  {
   "cell_type": "code",
   "execution_count": 27,
   "metadata": {},
   "outputs": [
    {
     "name": "stdout",
     "output_type": "stream",
     "text": [
      "[54, 39, 69, 36, 54, 54, 63, 30, 39, 45, 84, 75, 6, 30, 84, 99, 66, 24, 54, 93, 18, 57, 60, 6, 84, 24, 57, 66, 69, 45, 45]\n"
     ]
    }
   ],
   "source": [
    "# Create a new list from this random list, with numbers that are divisile by 3\n",
    "list_2 = [x for x in list_1 if x % 3 == 0]\n",
    "print(list_2)"
   ]
  },
  {
   "cell_type": "code",
   "execution_count": 28,
   "metadata": {},
   "outputs": [
    {
     "name": "stdout",
     "output_type": "stream",
     "text": [
      "69\n"
     ]
    }
   ],
   "source": [
    "# Calculate length of two lists and store the difference in a variable\n",
    "var1 = (len(list_1) - len(list_2))\n",
    "print(var1)"
   ]
  },
  {
   "cell_type": "code",
   "execution_count": 32,
   "metadata": {},
   "outputs": [
    {
     "name": "stdout",
     "output_type": "stream",
     "text": [
      "[64, 67, 61]\n"
     ]
    }
   ],
   "source": [
    "# Using a loop, repeat previous steps and find the difference 3x\n",
    "diff_vars = []\n",
    "count = 0\n",
    "while (count < 3):\n",
    "    list_1 = [random.randint(0, 100) for x in range (0, 100)]\n",
    "    list_2 = [x for x in list_1 if x % 3 == 0]\n",
    "    input = (len(list_1) - len(list_2))\n",
    "    diff_vars.append(input)\n",
    "    count = count + 1\n",
    "print(diff_vars)"
   ]
  },
  {
   "cell_type": "code",
   "execution_count": 33,
   "metadata": {},
   "outputs": [
    {
     "name": "stdout",
     "output_type": "stream",
     "text": [
      "64\n"
     ]
    }
   ],
   "source": [
    "# Find the mean of three variables\n",
    "avg = statistics.mean(diff_vars)\n",
    "print (avg)"
   ]
  }
 ],
 "metadata": {
  "kernelspec": {
   "display_name": "Python 3",
   "language": "python",
   "name": "python3"
  },
  "language_info": {
   "codemirror_mode": {
    "name": "ipython",
    "version": 3
   },
   "file_extension": ".py",
   "mimetype": "text/x-python",
   "name": "python",
   "nbconvert_exporter": "python",
   "pygments_lexer": "ipython3",
   "version": "3.8.3"
  }
 },
 "nbformat": 4,
 "nbformat_minor": 4
}
