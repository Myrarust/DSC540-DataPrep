{
 "cells": [
  {
   "cell_type": "markdown",
   "metadata": {},
   "source": [
    "***Activity 6***"
   ]
  },
  {
   "cell_type": "code",
   "execution_count": 1,
   "metadata": {},
   "outputs": [],
   "source": [
    "# import libraries needed for reading tabular data from a website\n",
    "import pandas as pd\n",
    "from bs4 import BeautifulSoup"
   ]
  },
  {
   "cell_type": "code",
   "execution_count": 7,
   "metadata": {},
   "outputs": [],
   "source": [
    "# Save the file after reading it with BeautifulSoup to use in later steps\n",
    "fd = open(\"countries2.htm\", \"r\")\n",
    "soup = BeautifulSoup(fd)\n",
    "fd.close()"
   ]
  },
  {
   "cell_type": "code",
   "execution_count": 8,
   "metadata": {},
   "outputs": [
    {
     "name": "stdout",
     "output_type": "stream",
     "text": [
      "Total numer of tables: 0\n"
     ]
    }
   ],
   "source": [
    "# Use findall method to see how many tables there are\n",
    "all_tables = soup.find_all(\"table\")\n",
    "print(\"Total numer of tables: {}\".format(len(all_tables)))"
   ]
  },
  {
   "cell_type": "code",
   "execution_count": 56,
   "metadata": {},
   "outputs": [],
   "source": [
    "# I have no idea why that didn't work, it's what the book says to do, I checked the solution, \n",
    "# it says the same thing. I'm going change my approach and use the actual url."
   ]
  },
  {
   "cell_type": "code",
   "execution_count": 2,
   "metadata": {},
   "outputs": [],
   "source": [
    "# import library needed to get the webpage\n",
    "import requests"
   ]
  },
  {
   "cell_type": "code",
   "execution_count": 9,
   "metadata": {},
   "outputs": [],
   "source": [
    "url = \"https://en.wikipedia.org/wiki/List_of_countries_by_GDP_(nominal)\"\n",
    "r  = requests.get(url)\n",
    "data = r.text\n",
    "soup = BeautifulSoup(data)"
   ]
  },
  {
   "cell_type": "code",
   "execution_count": 10,
   "metadata": {
    "scrolled": true
   },
   "outputs": [
    {
     "name": "stdout",
     "output_type": "stream",
     "text": [
      "Total numer of tables: 14\n"
     ]
    }
   ],
   "source": [
    "all_tables = soup.find_all(\"table\")\n",
    "print(\"Total numer of tables: {}\".format(len(all_tables)))"
   ]
  },
  {
   "cell_type": "code",
   "execution_count": 11,
   "metadata": {},
   "outputs": [
    {
     "name": "stdout",
     "output_type": "stream",
     "text": [
      "<class 'bs4.element.Tag'>\n"
     ]
    }
   ],
   "source": [
    "# Well that worked. I'm showing 14 tables, so now i'm supposed to find the \"right\" tables. I see\n",
    "# that each of tables comes from a different source. The International Monetary Fund, the World\n",
    "# Bank, and the United Nations. I didn't really know how to do this, so I followed the instruction\n",
    "# in the solutions file, which didn't work, so I googled it and had to add the attrs= part to the \n",
    "# code to get the solution.\n",
    "\n",
    "data_table = soup.find(\"table\", attrs={\"class\": \"wikitable\"})\n",
    "print(type(data_table))\n"
   ]
  },
  {
   "cell_type": "code",
   "execution_count": 12,
   "metadata": {},
   "outputs": [],
   "source": [
    "# Separate source names from their data by first separating out the body from where to pull \n",
    "# the source.\n",
    "sources = data_table.tbody.findAll('tr', recursive=False)[0]"
   ]
  },
  {
   "cell_type": "code",
   "execution_count": 13,
   "metadata": {},
   "outputs": [
    {
     "name": "stdout",
     "output_type": "stream",
     "text": [
      "3\n"
     ]
    }
   ],
   "source": [
    "# Then, creating a list containing the td data for each of the tables.\n",
    "sources_list = [td for td in sources.findAll('td')]\n",
    "print(len(sources_list))"
   ]
  },
  {
   "cell_type": "code",
   "execution_count": 14,
   "metadata": {},
   "outputs": [
    {
     "data": {
      "text/plain": [
       "[<td style=\"width:33%; text-align:center\"><b>Per the <a href=\"/wiki/International_Monetary_Fund\" title=\"International Monetary Fund\">International Monetary Fund</a> (2019 estimates)</b><sup class=\"reference\" id=\"cite_ref-GDP_IMF_1-2\"><a href=\"#cite_note-GDP_IMF-1\">[1]</a></sup>\n",
       " </td>,\n",
       " <td style=\"width:33%; text-align:center;\"><b>Per the <a href=\"/wiki/World_Bank\" title=\"World Bank\">World Bank</a> (2019)</b><sup class=\"reference\" id=\"cite_ref-worldbank_21-0\"><a href=\"#cite_note-worldbank-21\">[20]</a></sup>\n",
       " </td>,\n",
       " <td style=\"width:33%; text-align:center;\"><b>Per the <a href=\"/wiki/United_Nations\" title=\"United Nations\">United Nations</a> (2018)</b><sup class=\"reference\" id=\"cite_ref-22\"><a href=\"#cite_note-22\">[21]</a></sup>\n",
       " </td>]"
      ]
     },
     "execution_count": 14,
     "metadata": {},
     "output_type": "execute_result"
    }
   ],
   "source": [
    "sources_list"
   ]
  },
  {
   "cell_type": "code",
   "execution_count": 15,
   "metadata": {},
   "outputs": [
    {
     "name": "stdout",
     "output_type": "stream",
     "text": [
      "['International Monetary Fund', 'World Bank', 'United Nations']\n"
     ]
    }
   ],
   "source": [
    "# Now pull out the source names, which are located under the <a> tag.\n",
    "source_names = [source.findAll('a')[0].getText() for source in sources_list]\n",
    "print(source_names)"
   ]
  },
  {
   "cell_type": "code",
   "execution_count": 16,
   "metadata": {},
   "outputs": [
    {
     "ename": "KeyError",
     "evalue": "0",
     "output_type": "error",
     "traceback": [
      "\u001b[1;31m---------------------------------------------------------------------------\u001b[0m",
      "\u001b[1;31mKeyError\u001b[0m                                  Traceback (most recent call last)",
      "\u001b[1;32m<ipython-input-16-ee8e48448978>\u001b[0m in \u001b[0;36m<module>\u001b[1;34m\u001b[0m\n\u001b[0;32m      1\u001b[0m \u001b[1;31m# Get the headers for the first source. Headers have the <th> tag and access the first table by\u001b[0m\u001b[1;33m\u001b[0m\u001b[1;33m\u001b[0m\u001b[1;33m\u001b[0m\u001b[0m\n\u001b[0;32m      2\u001b[0m \u001b[1;31m# using the location of 0.\u001b[0m\u001b[1;33m\u001b[0m\u001b[1;33m\u001b[0m\u001b[1;33m\u001b[0m\u001b[0m\n\u001b[1;32m----> 3\u001b[1;33m \u001b[0mheader1\u001b[0m \u001b[1;33m=\u001b[0m \u001b[1;33m[\u001b[0m\u001b[0mth\u001b[0m\u001b[1;33m.\u001b[0m\u001b[0mgetText\u001b[0m\u001b[1;33m(\u001b[0m\u001b[1;33m)\u001b[0m\u001b[1;33m.\u001b[0m\u001b[0mstrip\u001b[0m\u001b[1;33m(\u001b[0m\u001b[1;33m)\u001b[0m \u001b[1;32mfor\u001b[0m \u001b[0mth\u001b[0m \u001b[1;32min\u001b[0m \u001b[0mdata_table\u001b[0m\u001b[1;33m[\u001b[0m\u001b[1;36m0\u001b[0m\u001b[1;33m]\u001b[0m\u001b[1;33m[\u001b[0m\u001b[1;36m0\u001b[0m\u001b[1;33m]\u001b[0m\u001b[1;33m.\u001b[0m\u001b[0mfindAll\u001b[0m\u001b[1;33m(\u001b[0m\u001b[1;34m'thead'\u001b[0m\u001b[1;33m)\u001b[0m\u001b[1;33m[\u001b[0m\u001b[1;36m0\u001b[0m\u001b[1;33m]\u001b[0m\u001b[1;33m.\u001b[0m\u001b[0mfindAll\u001b[0m\u001b[1;33m(\u001b[0m\u001b[1;34m'th'\u001b[0m\u001b[1;33m)\u001b[0m\u001b[1;33m]\u001b[0m\u001b[1;33m\u001b[0m\u001b[1;33m\u001b[0m\u001b[0m\n\u001b[0m\u001b[0;32m      4\u001b[0m \u001b[0mheader1\u001b[0m\u001b[1;33m\u001b[0m\u001b[1;33m\u001b[0m\u001b[0m\n",
      "\u001b[1;32m~\\anaconda3\\lib\\site-packages\\bs4\\element.py\u001b[0m in \u001b[0;36m__getitem__\u001b[1;34m(self, key)\u001b[0m\n\u001b[0;32m   1399\u001b[0m         \"\"\"tag[key] returns the value of the 'key' attribute for the Tag,\n\u001b[0;32m   1400\u001b[0m         and throws an exception if it's not there.\"\"\"\n\u001b[1;32m-> 1401\u001b[1;33m         \u001b[1;32mreturn\u001b[0m \u001b[0mself\u001b[0m\u001b[1;33m.\u001b[0m\u001b[0mattrs\u001b[0m\u001b[1;33m[\u001b[0m\u001b[0mkey\u001b[0m\u001b[1;33m]\u001b[0m\u001b[1;33m\u001b[0m\u001b[1;33m\u001b[0m\u001b[0m\n\u001b[0m\u001b[0;32m   1402\u001b[0m \u001b[1;33m\u001b[0m\u001b[0m\n\u001b[0;32m   1403\u001b[0m     \u001b[1;32mdef\u001b[0m \u001b[0m__iter__\u001b[0m\u001b[1;33m(\u001b[0m\u001b[0mself\u001b[0m\u001b[1;33m)\u001b[0m\u001b[1;33m:\u001b[0m\u001b[1;33m\u001b[0m\u001b[1;33m\u001b[0m\u001b[0m\n",
      "\u001b[1;31mKeyError\u001b[0m: 0"
     ]
    }
   ],
   "source": [
    "# Get the headers for the first source. Headers have the <th> tag and access the first table by \n",
    "# using the location of 0.\n",
    "header1 = [th.getText().strip() for th in data_table[0][0].findAll('thead')[0].findAll('th')]\n",
    "header1"
   ]
  },
  {
   "cell_type": "code",
   "execution_count": 17,
   "metadata": {},
   "outputs": [
    {
     "ename": "KeyError",
     "evalue": "0",
     "output_type": "error",
     "traceback": [
      "\u001b[1;31m---------------------------------------------------------------------------\u001b[0m",
      "\u001b[1;31mKeyError\u001b[0m                                  Traceback (most recent call last)",
      "\u001b[1;32m<ipython-input-17-77bee274816a>\u001b[0m in \u001b[0;36m<module>\u001b[1;34m\u001b[0m\n\u001b[0;32m      1\u001b[0m \u001b[1;31m# The code from the solutions file didn't work, so I googled it and will try something different.\u001b[0m\u001b[1;33m\u001b[0m\u001b[1;33m\u001b[0m\u001b[1;33m\u001b[0m\u001b[0m\n\u001b[0;32m      2\u001b[0m \u001b[0mt_headers\u001b[0m \u001b[1;33m=\u001b[0m \u001b[1;33m[\u001b[0m\u001b[1;33m]\u001b[0m\u001b[1;33m\u001b[0m\u001b[1;33m\u001b[0m\u001b[0m\n\u001b[1;32m----> 3\u001b[1;33m \u001b[1;32mfor\u001b[0m \u001b[0mth\u001b[0m \u001b[1;32min\u001b[0m \u001b[0mdata_table\u001b[0m\u001b[1;33m[\u001b[0m\u001b[1;36m0\u001b[0m\u001b[1;33m]\u001b[0m\u001b[1;33m[\u001b[0m\u001b[1;36m0\u001b[0m\u001b[1;33m]\u001b[0m\u001b[1;33m:\u001b[0m\u001b[1;33m\u001b[0m\u001b[1;33m\u001b[0m\u001b[0m\n\u001b[0m\u001b[0;32m      4\u001b[0m     \u001b[0mdata_table\u001b[0m\u001b[1;33m.\u001b[0m\u001b[0mfind_all\u001b[0m\u001b[1;33m(\u001b[0m\u001b[1;34m\"th\"\u001b[0m\u001b[1;33m)\u001b[0m\u001b[1;33m\u001b[0m\u001b[1;33m\u001b[0m\u001b[0m\n\u001b[0;32m      5\u001b[0m     \u001b[0mt_headers\u001b[0m\u001b[1;33m.\u001b[0m\u001b[0mappend\u001b[0m\u001b[1;33m(\u001b[0m\u001b[0mth\u001b[0m\u001b[1;33m.\u001b[0m\u001b[0mgetText\u001b[0m\u001b[1;33m(\u001b[0m\u001b[1;33m)\u001b[0m\u001b[1;33m.\u001b[0m\u001b[0mstrip\u001b[0m\u001b[1;33m(\u001b[0m\u001b[1;33m)\u001b[0m\u001b[1;33m)\u001b[0m\u001b[1;33m\u001b[0m\u001b[1;33m\u001b[0m\u001b[0m\n",
      "\u001b[1;32m~\\anaconda3\\lib\\site-packages\\bs4\\element.py\u001b[0m in \u001b[0;36m__getitem__\u001b[1;34m(self, key)\u001b[0m\n\u001b[0;32m   1399\u001b[0m         \"\"\"tag[key] returns the value of the 'key' attribute for the Tag,\n\u001b[0;32m   1400\u001b[0m         and throws an exception if it's not there.\"\"\"\n\u001b[1;32m-> 1401\u001b[1;33m         \u001b[1;32mreturn\u001b[0m \u001b[0mself\u001b[0m\u001b[1;33m.\u001b[0m\u001b[0mattrs\u001b[0m\u001b[1;33m[\u001b[0m\u001b[0mkey\u001b[0m\u001b[1;33m]\u001b[0m\u001b[1;33m\u001b[0m\u001b[1;33m\u001b[0m\u001b[0m\n\u001b[0m\u001b[0;32m   1402\u001b[0m \u001b[1;33m\u001b[0m\u001b[0m\n\u001b[0;32m   1403\u001b[0m     \u001b[1;32mdef\u001b[0m \u001b[0m__iter__\u001b[0m\u001b[1;33m(\u001b[0m\u001b[0mself\u001b[0m\u001b[1;33m)\u001b[0m\u001b[1;33m:\u001b[0m\u001b[1;33m\u001b[0m\u001b[1;33m\u001b[0m\u001b[0m\n",
      "\u001b[1;31mKeyError\u001b[0m: 0"
     ]
    }
   ],
   "source": [
    "# The code from the solutions file didn't work, so I googled it and will try something different.\n",
    "t_headers = []\n",
    "for th in data_table[0][0]:\n",
    "    data_table.find_all(\"th\")\n",
    "    t_headers.append(th.getText().strip())"
   ]
  },
  {
   "cell_type": "code",
   "execution_count": 18,
   "metadata": {
    "scrolled": false
   },
   "outputs": [],
   "source": [
    "# Oh My Gosh! After hours of trying to figure this out, I finally figured out how to separate \n",
    "# The header from the first table. First, I found the table data listed under wikitable sortable\n",
    "data = soup.find(\"table\", attrs={\"class\": \"wikitable sortable\"})"
   ]
  },
  {
   "cell_type": "code",
   "execution_count": 163,
   "metadata": {},
   "outputs": [
    {
     "data": {
      "text/plain": [
       "<tr>\n",
       "<th data-sort-type=\"number\" style=\"width:2em;\">Rank</th>\n",
       "<th>Country/Territory</th>\n",
       "<th>GDP<br/>(US$million)\n",
       "</th></tr>"
      ]
     },
     "execution_count": 163,
     "metadata": {},
     "output_type": "execute_result"
    }
   ],
   "source": [
    "# Next, I took the first sortable table data\n",
    "first = data.tbody.findAll('tr', recursive=False)[0]\n",
    "first"
   ]
  },
  {
   "cell_type": "code",
   "execution_count": 170,
   "metadata": {},
   "outputs": [
    {
     "data": {
      "text/plain": [
       "['Rank', 'Country/Territory', 'GDP(US$million)']"
      ]
     },
     "execution_count": 170,
     "metadata": {},
     "output_type": "execute_result"
    }
   ],
   "source": [
    "# Then I separated out the headers\n",
    "col_headers1 = [th.getText().strip() for th in first.findAll('th')]\n",
    "col_headers1"
   ]
  },
  {
   "cell_type": "code",
   "execution_count": 174,
   "metadata": {},
   "outputs": [],
   "source": [
    "# Separate the data without header\n",
    "data1 = data.tbody.findAll('tr', recursive=False)[1:]"
   ]
  },
  {
   "cell_type": "code",
   "execution_count": 176,
   "metadata": {},
   "outputs": [
    {
     "data": {
      "text/plain": [
       "[['', 'World[19]', '87,265,226'],\n",
       " ['1', 'United States', '21,439,453'],\n",
       " ['—', 'European Union[22][n 1]', '18,705,132'],\n",
       " ['2', 'China[n 2]', '14,140,163'],\n",
       " ['3', 'Japan', '5,154,475'],\n",
       " ['4', 'Germany', '3,863,344'],\n",
       " ['5', 'India', '2,935,570'],\n",
       " ['6', 'United Kingdom', '2,743,586'],\n",
       " ['7', 'France', '2,707,074'],\n",
       " ['8', 'Italy', '1,988,636'],\n",
       " ['9', 'Brazil', '1,847,020'],\n",
       " ['10', 'Canada', '1,730,914'],\n",
       " ['11', 'Russia[n 3]', '1,637,892'],\n",
       " ['12', 'South Korea', '1,629,532'],\n",
       " ['13', 'Spain', '1,397,870'],\n",
       " ['14', 'Australia', '1,376,255'],\n",
       " ['15', 'Mexico', '1,274,175'],\n",
       " ['16', 'Indonesia', '1,111,713'],\n",
       " ['17', 'Netherlands', '902,355'],\n",
       " ['18', 'Saudi Arabia', '779,289'],\n",
       " ['19', 'Turkey', '743,708'],\n",
       " ['20', 'Switzerland', '715,360'],\n",
       " ['—', 'Taiwan', '586,104'],\n",
       " ['21', 'Poland', '565,854'],\n",
       " ['22', 'Thailand', '529,177'],\n",
       " ['23', 'Sweden', '528,929'],\n",
       " ['24', 'Belgium', '517,609'],\n",
       " ['25', 'Iran', '458,500'],\n",
       " ['26', 'Austria', '447,718'],\n",
       " ['27', 'Nigeria', '446,543'],\n",
       " ['28', 'Argentina', '445,469'],\n",
       " ['29', 'Norway', '417,627'],\n",
       " ['30', 'United Arab Emirates', '405,771'],\n",
       " ['31', 'Israel', '387,717'],\n",
       " ['32', 'Ireland', '384,940'],\n",
       " ['—', 'Hong Kong', '372,989'],\n",
       " ['33', 'Malaysia', '365,303'],\n",
       " ['34', 'Singapore', '362,818'],\n",
       " ['35', 'South Africa', '358,839'],\n",
       " ['36', 'Philippines', '356,814'],\n",
       " ['37', 'Denmark', '347,176'],\n",
       " ['38', 'Colombia', '327,895'],\n",
       " ['39', 'Bangladesh', '317,465'],\n",
       " ['40', 'Egypt', '302,256'],\n",
       " ['41', 'Chile', '294,237'],\n",
       " ['42', 'Pakistan', '284,214'],\n",
       " ['43', 'Finland', '269,654'],\n",
       " ['44', 'Vietnam', '261,637'],\n",
       " ['45', 'Czech Republic', '246,953'],\n",
       " ['46', 'Romania', '243,698'],\n",
       " ['47', 'Portugal', '236,408'],\n",
       " ['48', 'Peru', '228,989'],\n",
       " ['49', 'Iraq', '224,462'],\n",
       " ['50', 'Greece', '214,012'],\n",
       " ['51', 'New Zealand', '204,671'],\n",
       " ['52', 'Qatar', '191,849'],\n",
       " ['53', 'Algeria', '172,781'],\n",
       " ['54', 'Hungary', '170,407'],\n",
       " ['55', 'Kazakhstan', '170,326'],\n",
       " ['56', 'Ukraine', '150,401'],\n",
       " ['57', 'Kuwait', '137,591'],\n",
       " ['58', 'Morocco', '119,040'],\n",
       " ['59', 'Ecuador', '107,914'],\n",
       " ['60', 'Slovakia', '106,552'],\n",
       " ['—', 'Puerto Rico', '99,913'],\n",
       " ['61', 'Kenya', '98,607'],\n",
       " ['62', 'Angola', '91,527'],\n",
       " ['63', 'Ethiopia', '91,166'],\n",
       " ['64', 'Dominican Republic', '89,475'],\n",
       " ['65', 'Sri Lanka', '86,566'],\n",
       " ['66', 'Guatemala', '81,318'],\n",
       " ['67', 'Oman', '76,609'],\n",
       " ['68', 'Venezuela', '70,140'],\n",
       " ['69', 'Luxembourg', '69,453'],\n",
       " ['70', 'Panama', '68,536'],\n",
       " ['71', 'Ghana', '67,077'],\n",
       " ['72', 'Bulgaria', '66,250'],\n",
       " ['73', 'Myanmar', '65,994'],\n",
       " ['74', 'Tanzania', '62,224'],\n",
       " ['75', 'Belarus', '62,572'],\n",
       " ['76', 'Costa Rica', '61,021'],\n",
       " ['77', 'Croatia', '60,702'],\n",
       " ['78', 'Uzbekistan', '60,490'],\n",
       " ['79', 'Syria[n 4]', '60,043/Na'],\n",
       " ['80', 'Uruguay', '59,918'],\n",
       " ['81', 'Lebanon', '58,565'],\n",
       " ['—', 'Macau', '55,136'],\n",
       " ['82', 'Slovenia', '54,154'],\n",
       " ['83', 'Lithuania', '53,641'],\n",
       " ['84', 'Serbia', '51,523'],\n",
       " ['85', 'Congo, Democratic Republic of the', '48,994'],\n",
       " ['86', 'Azerbaijan', '47,171'],\n",
       " ['87', 'Turkmenistan', '46,674'],\n",
       " ['88', \"Côte d'Ivoire\", '44,439'],\n",
       " ['89', 'Jordan', '44,172'],\n",
       " ['90', 'Bolivia', '42,401'],\n",
       " ['91', 'Paraguay', '40,714'],\n",
       " ['92', 'Tunisia', '38,732'],\n",
       " ['93', 'Cameroon', '38,632'],\n",
       " ['94', 'Bahrain', '38,184'],\n",
       " ['95', 'Latvia', '35,045'],\n",
       " ['96', 'Libya', '33,018'],\n",
       " ['97', 'Estonia', '31,038'],\n",
       " ['98', 'Sudan', '30,873'],\n",
       " ['99', 'Uganda', '30,666'],\n",
       " ['100', 'Yemen', '29,855'],\n",
       " ['101', 'Nepal', '29,813'],\n",
       " ['102', 'El Salvador', '26,871'],\n",
       " ['103', 'Cambodia', '26,730'],\n",
       " ['104', 'Honduras', '24,449'],\n",
       " ['105', 'Cyprus', '24,280'],\n",
       " ['106', 'Zambia', '23,946'],\n",
       " ['107', 'Senegal', '23,940'],\n",
       " ['108', 'Iceland', '23,918'],\n",
       " ['109', 'Papua New Guinea', '23,587'],\n",
       " ['110', 'Trinidad and Tobago', '22,607'],\n",
       " ['111', 'Bosnia and Herzegovina', '20,106'],\n",
       " ['112', 'Laos', '19,127'],\n",
       " ['113', 'Afghanistan', '18,734'],\n",
       " ['114', 'Botswana', '18,690'],\n",
       " ['115', 'Mali', '17,647'],\n",
       " ['117', 'Gabon', '16,877'],\n",
       " ['116', 'Georgia', '15,925'],\n",
       " ['118', 'Jamaica', '15,702'],\n",
       " ['119', 'Albania', '15,418'],\n",
       " ['120', 'Mozambique', '15,093'],\n",
       " ['121', 'Malta', '14,859'],\n",
       " ['122', 'Burkina Faso', '14,593'],\n",
       " ['123', 'Mauritius', '14,391'],\n",
       " ['124', 'Benin', '14,374'],\n",
       " ['125', 'Namibia', '14,368'],\n",
       " ['126', 'Mongolia', '13,637'],\n",
       " ['127', 'Armenia', '13,444'],\n",
       " ['128', 'Guinea', '13,368'],\n",
       " ['129', 'Zimbabwe', '12,818'],\n",
       " ['130', 'North Macedonia', '12,672'],\n",
       " ['131', 'The Bahamas', '12,664'],\n",
       " ['132', 'Madagascar', '12,550'],\n",
       " ['133', 'Nicaragua', '12,528'],\n",
       " ['134', 'Brunei', '12,455'],\n",
       " ['135', 'Equatorial Guinea', '12,142'],\n",
       " ['136', 'Moldova', '11,688'],\n",
       " ['137', 'Congo, Republic of the', '11,576'],\n",
       " ['138', 'Chad', '11,026'],\n",
       " ['139', 'Rwanda', '10,209'],\n",
       " ['140', 'Niger', '9,443'],\n",
       " ['141', 'Haiti', '8,819'],\n",
       " ['142', 'Kyrgyzstan', '8,261'],\n",
       " ['143', 'Tajikistan', '8,152'],\n",
       " ['—', 'Kosovo', '7,996'],\n",
       " ['144', 'Malawi', '7,522'],\n",
       " ['145', 'Maldives', '5,786'],\n",
       " ['146', 'Togo', '5,502'],\n",
       " ['147', 'Mauritania', '5,651'],\n",
       " ['148', 'Montenegro', '5,424'],\n",
       " ['149', 'Fiji', '5,708'],\n",
       " ['150', 'Barbados', '5,189'],\n",
       " ['151', 'Somalia', '4,958'],\n",
       " ['152', 'Eswatini', '4,657'],\n",
       " ['153', 'Sierra Leone', '4,229'],\n",
       " ['154', 'Guyana', '4,121'],\n",
       " ['155', 'Suriname', '3,774'],\n",
       " ['156', 'South Sudan', '3,681'],\n",
       " ['157', 'Burundi', '3,573'],\n",
       " ['158', 'Liberia', '3,221'],\n",
       " ['159', 'Djibouti', '3,166'],\n",
       " ['160', 'Timor-Leste', '2,938'],\n",
       " ['—', 'Aruba', '2,903'],\n",
       " ['161', 'Bhutan', '2,842'],\n",
       " ['162', 'Lesotho', '2,741'],\n",
       " ['163', 'Central African Republic', '2,321'],\n",
       " ['164', 'Eritrea', '2,110'],\n",
       " ['165', 'Belize', '2,001'],\n",
       " ['166', 'Saint Lucia', '1,992'],\n",
       " ['167', 'The Gambia', '1,773'],\n",
       " ['168', 'Antigua and Barbuda', '1,688'],\n",
       " ['169', 'Seychelles', '1,644'],\n",
       " ['170', 'San Marino', '1,591'],\n",
       " ['171', 'Solomon Islands', '1,440'],\n",
       " ['172', 'Grenada', '1,238'],\n",
       " ['173', 'Comoros', '1,179'],\n",
       " ['174', 'Saint Kitts and Nevis', '1,032'],\n",
       " ['175', 'Vanuatu', '951'],\n",
       " ['176', 'Samoa', '905'],\n",
       " ['177', 'Saint Vincent and the Grenadines', '856'],\n",
       " ['178', 'Dominica', '593'],\n",
       " ['179', 'Tonga', '488'],\n",
       " ['180', 'São Tomé and Príncipe', '430'],\n",
       " ['181', 'Micronesia, Federated States of', '381'],\n",
       " ['182', 'Palau', '291'],\n",
       " ['183', 'Marshall Islands', '220'],\n",
       " ['184', 'Kiribati', '184'],\n",
       " ['185', 'Nauru', '108'],\n",
       " ['186', 'Tuvalu', '42']]"
      ]
     },
     "execution_count": 176,
     "metadata": {},
     "output_type": "execute_result"
    }
   ],
   "source": [
    "# Create a two dimentional list of the data witout headers (rows in the table)\n",
    "df_data1 = [[td.getText().strip() for td in tr.findAll('td')] for tr in data1]\n",
    "df_data1"
   ]
  },
  {
   "cell_type": "code",
   "execution_count": 177,
   "metadata": {},
   "outputs": [
    {
     "data": {
      "text/html": [
       "<div>\n",
       "<style scoped>\n",
       "    .dataframe tbody tr th:only-of-type {\n",
       "        vertical-align: middle;\n",
       "    }\n",
       "\n",
       "    .dataframe tbody tr th {\n",
       "        vertical-align: top;\n",
       "    }\n",
       "\n",
       "    .dataframe thead th {\n",
       "        text-align: right;\n",
       "    }\n",
       "</style>\n",
       "<table border=\"1\" class=\"dataframe\">\n",
       "  <thead>\n",
       "    <tr style=\"text-align: right;\">\n",
       "      <th></th>\n",
       "      <th>Rank</th>\n",
       "      <th>Country/Territory</th>\n",
       "      <th>GDP(US$million)</th>\n",
       "    </tr>\n",
       "  </thead>\n",
       "  <tbody>\n",
       "    <tr>\n",
       "      <th>0</th>\n",
       "      <td></td>\n",
       "      <td>World[19]</td>\n",
       "      <td>87,265,226</td>\n",
       "    </tr>\n",
       "    <tr>\n",
       "      <th>1</th>\n",
       "      <td>1</td>\n",
       "      <td>United States</td>\n",
       "      <td>21,439,453</td>\n",
       "    </tr>\n",
       "    <tr>\n",
       "      <th>2</th>\n",
       "      <td>—</td>\n",
       "      <td>European Union[22][n 1]</td>\n",
       "      <td>18,705,132</td>\n",
       "    </tr>\n",
       "    <tr>\n",
       "      <th>3</th>\n",
       "      <td>2</td>\n",
       "      <td>China[n 2]</td>\n",
       "      <td>14,140,163</td>\n",
       "    </tr>\n",
       "    <tr>\n",
       "      <th>4</th>\n",
       "      <td>3</td>\n",
       "      <td>Japan</td>\n",
       "      <td>5,154,475</td>\n",
       "    </tr>\n",
       "  </tbody>\n",
       "</table>\n",
       "</div>"
      ],
      "text/plain": [
       "  Rank        Country/Territory GDP(US$million)\n",
       "0                     World[19]      87,265,226\n",
       "1    1            United States      21,439,453\n",
       "2    —  European Union[22][n 1]      18,705,132\n",
       "3    2               China[n 2]      14,140,163\n",
       "4    3                    Japan       5,154,475"
      ]
     },
     "execution_count": 177,
     "metadata": {},
     "output_type": "execute_result"
    }
   ],
   "source": [
    "# Create a pandas dataframe using the header and row data\n",
    "df1 = pd.DataFrame(df_data1, columns=col_headers1)\n",
    "df1.head()"
   ]
  },
  {
   "cell_type": "code",
   "execution_count": 178,
   "metadata": {},
   "outputs": [
    {
     "data": {
      "text/plain": [
       "<tr style=\"font-weight:bold;background:#eaecf0\">\n",
       "<td data-sort-value=\"-1\"> </td>\n",
       "<td data-sort-value=\"\"><span class=\"flagicon\" style=\"padding-left:25px;\"> </span><i><a href=\"/wiki/Gross_world_product\" title=\"Gross world product\">World</a></i><sup class=\"reference\" id=\"cite_ref-IMF_Groups_20-1\"><a href=\"#cite_note-IMF_Groups-20\">[19]</a></sup></td>\n",
       "<td align=\"right\">87,265,226\n",
       "</td></tr>"
      ]
     },
     "execution_count": 178,
     "metadata": {},
     "output_type": "execute_result"
    }
   ],
   "source": [
    "# Now repeat those steps for the other two tables. \n",
    "second = data.tbody.findAll('tr', recursive=False)[1]\n",
    "second"
   ]
  },
  {
   "cell_type": "code",
   "execution_count": null,
   "metadata": {},
   "outputs": [],
   "source": [
    "# I could not figure out how to get to the second table using the code I had written to get the  \n",
    "# first and the code in the solutions file didn't work at all, probably because I was using the\n",
    "# actual website instead of the html file from Github, but I couldn't make that work. So I'm \n",
    "# kinda stuck here and after spending a great deal of time on this, I determined, I just need to \n",
    "# move on."
   ]
  },
  {
   "cell_type": "markdown",
   "metadata": {},
   "source": [
    "***Activity 8***"
   ]
  },
  {
   "cell_type": "code",
   "execution_count": 39,
   "metadata": {},
   "outputs": [],
   "source": [
    "# import needed libraries\n",
    "import pandas as pd\n",
    "import numpy as np\n",
    "import matplotlib.pyplot as plt"
   ]
  },
  {
   "cell_type": "code",
   "execution_count": 18,
   "metadata": {},
   "outputs": [
    {
     "data": {
      "text/html": [
       "<div>\n",
       "<style scoped>\n",
       "    .dataframe tbody tr th:only-of-type {\n",
       "        vertical-align: middle;\n",
       "    }\n",
       "\n",
       "    .dataframe tbody tr th {\n",
       "        vertical-align: top;\n",
       "    }\n",
       "\n",
       "    .dataframe thead th {\n",
       "        text-align: right;\n",
       "    }\n",
       "</style>\n",
       "<table border=\"1\" class=\"dataframe\">\n",
       "  <thead>\n",
       "    <tr style=\"text-align: right;\">\n",
       "      <th></th>\n",
       "      <th>id</th>\n",
       "      <th>first_name</th>\n",
       "      <th>last_name</th>\n",
       "      <th>email</th>\n",
       "      <th>gender</th>\n",
       "      <th>ip_address</th>\n",
       "      <th>visit</th>\n",
       "    </tr>\n",
       "  </thead>\n",
       "  <tbody>\n",
       "    <tr>\n",
       "      <th>0</th>\n",
       "      <td>1</td>\n",
       "      <td>Sonny</td>\n",
       "      <td>Dahl</td>\n",
       "      <td>sdahl0@mysql.com</td>\n",
       "      <td>Male</td>\n",
       "      <td>135.36.96.183</td>\n",
       "      <td>1225.0</td>\n",
       "    </tr>\n",
       "    <tr>\n",
       "      <th>1</th>\n",
       "      <td>2</td>\n",
       "      <td>NaN</td>\n",
       "      <td>NaN</td>\n",
       "      <td>dhoovart1@hud.gov</td>\n",
       "      <td>NaN</td>\n",
       "      <td>237.165.194.143</td>\n",
       "      <td>919.0</td>\n",
       "    </tr>\n",
       "    <tr>\n",
       "      <th>2</th>\n",
       "      <td>3</td>\n",
       "      <td>Gar</td>\n",
       "      <td>Armal</td>\n",
       "      <td>garmal2@technorati.com</td>\n",
       "      <td>NaN</td>\n",
       "      <td>166.43.137.224</td>\n",
       "      <td>271.0</td>\n",
       "    </tr>\n",
       "    <tr>\n",
       "      <th>3</th>\n",
       "      <td>4</td>\n",
       "      <td>Chiarra</td>\n",
       "      <td>Nulty</td>\n",
       "      <td>cnulty3@newyorker.com</td>\n",
       "      <td>NaN</td>\n",
       "      <td>139.98.137.108</td>\n",
       "      <td>1002.0</td>\n",
       "    </tr>\n",
       "    <tr>\n",
       "      <th>4</th>\n",
       "      <td>5</td>\n",
       "      <td>NaN</td>\n",
       "      <td>NaN</td>\n",
       "      <td>sleaver4@elegantthemes.com</td>\n",
       "      <td>NaN</td>\n",
       "      <td>46.117.117.27</td>\n",
       "      <td>2434.0</td>\n",
       "    </tr>\n",
       "  </tbody>\n",
       "</table>\n",
       "</div>"
      ],
      "text/plain": [
       "   id first_name last_name                       email gender  \\\n",
       "0   1      Sonny      Dahl            sdahl0@mysql.com   Male   \n",
       "1   2        NaN       NaN           dhoovart1@hud.gov    NaN   \n",
       "2   3        Gar     Armal      garmal2@technorati.com    NaN   \n",
       "3   4    Chiarra     Nulty       cnulty3@newyorker.com    NaN   \n",
       "4   5        NaN       NaN  sleaver4@elegantthemes.com    NaN   \n",
       "\n",
       "        ip_address   visit  \n",
       "0    135.36.96.183  1225.0  \n",
       "1  237.165.194.143   919.0  \n",
       "2   166.43.137.224   271.0  \n",
       "3   139.98.137.108  1002.0  \n",
       "4    46.117.117.27  2434.0  "
      ]
     },
     "execution_count": 18,
     "metadata": {},
     "output_type": "execute_result"
    }
   ],
   "source": [
    "# Read in file using pandas\n",
    "file = pd.read_excel(\"visit_data.xlsx\")\n",
    "file.head()"
   ]
  },
  {
   "cell_type": "code",
   "execution_count": 24,
   "metadata": {},
   "outputs": [
    {
     "name": "stdout",
     "output_type": "stream",
     "text": [
      "False\n"
     ]
    }
   ],
   "source": [
    "# Check for duplicates using the email column since it is the most unique identifier in the data set\n",
    "print(any(file['email'].duplicated()))"
   ]
  },
  {
   "cell_type": "code",
   "execution_count": 27,
   "metadata": {},
   "outputs": [
    {
     "name": "stdout",
     "output_type": "stream",
     "text": [
      "first_name has 296 missing values(s)\n",
      "last_name has 296 missing values(s)\n",
      "gender has 505 missing values(s)\n",
      "visit has 26 missing values(s)\n"
     ]
    }
   ],
   "source": [
    "# Use a for loop to print out how many NaN values each column has because I'm not sure what is an essential column yet\n",
    "for col in file.columns:\n",
    "    miss = file[col].isnull().sum()\n",
    "    if miss>0:\n",
    "        print(\"{} has {} missing values(s)\".format(col, miss))"
   ]
  },
  {
   "cell_type": "code",
   "execution_count": 30,
   "metadata": {},
   "outputs": [
    {
     "name": "stdout",
     "output_type": "stream",
     "text": [
      "Email column contains NaN - False \n",
      "IP Address column contains NaN - False \n",
      "Visit column contains NaN - True \n"
     ]
    }
   ],
   "source": [
    "# Ok, after peeking at the solution, I probably should be trying to use the stuff we learned in this chapter instead of \n",
    "# for loops. I also found out the essential columns. So i'm going to put that code here too. I also had to look up the\n",
    "# difference between %r and %s does. \n",
    "print(\"Email column contains NaN - %r \" % df.email.isnull().values.any())\n",
    "print(\"IP Address column contains NaN - %s \" % df.ip_address.isnull().values.any())\n",
    "print(\"Visit column contains NaN - %s \" % df.visit.isnull().values.any())"
   ]
  },
  {
   "cell_type": "code",
   "execution_count": 37,
   "metadata": {},
   "outputs": [
    {
     "data": {
      "text/html": [
       "<div>\n",
       "<style scoped>\n",
       "    .dataframe tbody tr th:only-of-type {\n",
       "        vertical-align: middle;\n",
       "    }\n",
       "\n",
       "    .dataframe tbody tr th {\n",
       "        vertical-align: top;\n",
       "    }\n",
       "\n",
       "    .dataframe thead th {\n",
       "        text-align: right;\n",
       "    }\n",
       "</style>\n",
       "<table border=\"1\" class=\"dataframe\">\n",
       "  <thead>\n",
       "    <tr style=\"text-align: right;\">\n",
       "      <th></th>\n",
       "      <th>id</th>\n",
       "      <th>first_name</th>\n",
       "      <th>last_name</th>\n",
       "      <th>email</th>\n",
       "      <th>gender</th>\n",
       "      <th>ip_address</th>\n",
       "      <th>visit</th>\n",
       "    </tr>\n",
       "  </thead>\n",
       "  <tbody>\n",
       "    <tr>\n",
       "      <th>0</th>\n",
       "      <td>1</td>\n",
       "      <td>Sonny</td>\n",
       "      <td>Dahl</td>\n",
       "      <td>sdahl0@mysql.com</td>\n",
       "      <td>Male</td>\n",
       "      <td>135.36.96.183</td>\n",
       "      <td>1225.0</td>\n",
       "    </tr>\n",
       "    <tr>\n",
       "      <th>1</th>\n",
       "      <td>2</td>\n",
       "      <td>NaN</td>\n",
       "      <td>NaN</td>\n",
       "      <td>dhoovart1@hud.gov</td>\n",
       "      <td>NaN</td>\n",
       "      <td>237.165.194.143</td>\n",
       "      <td>919.0</td>\n",
       "    </tr>\n",
       "    <tr>\n",
       "      <th>2</th>\n",
       "      <td>3</td>\n",
       "      <td>Gar</td>\n",
       "      <td>Armal</td>\n",
       "      <td>garmal2@technorati.com</td>\n",
       "      <td>NaN</td>\n",
       "      <td>166.43.137.224</td>\n",
       "      <td>271.0</td>\n",
       "    </tr>\n",
       "    <tr>\n",
       "      <th>3</th>\n",
       "      <td>4</td>\n",
       "      <td>Chiarra</td>\n",
       "      <td>Nulty</td>\n",
       "      <td>cnulty3@newyorker.com</td>\n",
       "      <td>NaN</td>\n",
       "      <td>139.98.137.108</td>\n",
       "      <td>1002.0</td>\n",
       "    </tr>\n",
       "    <tr>\n",
       "      <th>4</th>\n",
       "      <td>5</td>\n",
       "      <td>NaN</td>\n",
       "      <td>NaN</td>\n",
       "      <td>sleaver4@elegantthemes.com</td>\n",
       "      <td>NaN</td>\n",
       "      <td>46.117.117.27</td>\n",
       "      <td>2434.0</td>\n",
       "    </tr>\n",
       "    <tr>\n",
       "      <th>...</th>\n",
       "      <td>...</td>\n",
       "      <td>...</td>\n",
       "      <td>...</td>\n",
       "      <td>...</td>\n",
       "      <td>...</td>\n",
       "      <td>...</td>\n",
       "      <td>...</td>\n",
       "    </tr>\n",
       "    <tr>\n",
       "      <th>994</th>\n",
       "      <td>995</td>\n",
       "      <td>NaN</td>\n",
       "      <td>NaN</td>\n",
       "      <td>hlowethrm@army.mil</td>\n",
       "      <td>Female</td>\n",
       "      <td>104.234.36.172</td>\n",
       "      <td>747.0</td>\n",
       "    </tr>\n",
       "    <tr>\n",
       "      <th>995</th>\n",
       "      <td>996</td>\n",
       "      <td>Averil</td>\n",
       "      <td>Pickover</td>\n",
       "      <td>apickoverrn@vk.com</td>\n",
       "      <td>Male</td>\n",
       "      <td>10.45.16.167</td>\n",
       "      <td>1305.0</td>\n",
       "    </tr>\n",
       "    <tr>\n",
       "      <th>996</th>\n",
       "      <td>997</td>\n",
       "      <td>Walton</td>\n",
       "      <td>Hallewell</td>\n",
       "      <td>whallewellro@nasa.gov</td>\n",
       "      <td>NaN</td>\n",
       "      <td>231.224.238.232</td>\n",
       "      <td>2531.0</td>\n",
       "    </tr>\n",
       "    <tr>\n",
       "      <th>998</th>\n",
       "      <td>999</td>\n",
       "      <td>Sapphira</td>\n",
       "      <td>Terron</td>\n",
       "      <td>sterronrq@wordpress.org</td>\n",
       "      <td>NaN</td>\n",
       "      <td>24.77.234.208</td>\n",
       "      <td>250.0</td>\n",
       "    </tr>\n",
       "    <tr>\n",
       "      <th>999</th>\n",
       "      <td>1000</td>\n",
       "      <td>NaN</td>\n",
       "      <td>NaN</td>\n",
       "      <td>jandreuzzirr@paginegialle.it</td>\n",
       "      <td>Male</td>\n",
       "      <td>211.136.66.144</td>\n",
       "      <td>2389.0</td>\n",
       "    </tr>\n",
       "  </tbody>\n",
       "</table>\n",
       "<p>974 rows × 7 columns</p>\n",
       "</div>"
      ],
      "text/plain": [
       "       id first_name  last_name                         email  gender  \\\n",
       "0       1      Sonny       Dahl              sdahl0@mysql.com    Male   \n",
       "1       2        NaN        NaN             dhoovart1@hud.gov     NaN   \n",
       "2       3        Gar      Armal        garmal2@technorati.com     NaN   \n",
       "3       4    Chiarra      Nulty         cnulty3@newyorker.com     NaN   \n",
       "4       5        NaN        NaN    sleaver4@elegantthemes.com     NaN   \n",
       "..    ...        ...        ...                           ...     ...   \n",
       "994   995        NaN        NaN            hlowethrm@army.mil  Female   \n",
       "995   996     Averil   Pickover            apickoverrn@vk.com    Male   \n",
       "996   997     Walton  Hallewell         whallewellro@nasa.gov     NaN   \n",
       "998   999   Sapphira     Terron       sterronrq@wordpress.org     NaN   \n",
       "999  1000        NaN        NaN  jandreuzzirr@paginegialle.it    Male   \n",
       "\n",
       "          ip_address   visit  \n",
       "0      135.36.96.183  1225.0  \n",
       "1    237.165.194.143   919.0  \n",
       "2     166.43.137.224   271.0  \n",
       "3     139.98.137.108  1002.0  \n",
       "4      46.117.117.27  2434.0  \n",
       "..               ...     ...  \n",
       "994   104.234.36.172   747.0  \n",
       "995     10.45.16.167  1305.0  \n",
       "996  231.224.238.232  2531.0  \n",
       "998    24.77.234.208   250.0  \n",
       "999   211.136.66.144  2389.0  \n",
       "\n",
       "[974 rows x 7 columns]"
      ]
     },
     "execution_count": 37,
     "metadata": {},
     "output_type": "execute_result"
    }
   ],
   "source": [
    "# Now since we have missing values in the visit column, which is essential, we need to remove them. I will use isfinite\n",
    "# to identify all non-NaN values and subset them \n",
    "file_without_Nans = file[np.isfinite(file['visit'])] \n",
    "file_without_Nans"
   ]
  },
  {
   "cell_type": "code",
   "execution_count": 42,
   "metadata": {
    "scrolled": true
   },
   "outputs": [
    {
     "name": "stdout",
     "output_type": "stream",
     "text": [
      "26 rows have been removed due to NaN values.\n"
     ]
    }
   ],
   "source": [
    "# Now I will report the size difference between the two data frames, which I know from my previous code, should be 26\n",
    "print(len(file)-len(file_without_Nans), \"rows have been removed due to NaN values.\")"
   ]
  },
  {
   "cell_type": "code",
   "execution_count": 40,
   "metadata": {},
   "outputs": [
    {
     "data": {
      "text/plain": [
       "{'whiskers': [<matplotlib.lines.Line2D at 0x18c51ef5ac0>,\n",
       "  <matplotlib.lines.Line2D at 0x18c51ef5e20>],\n",
       " 'caps': [<matplotlib.lines.Line2D at 0x18c51f0e1c0>,\n",
       "  <matplotlib.lines.Line2D at 0x18c51f0e520>],\n",
       " 'boxes': [<matplotlib.lines.Line2D at 0x18c51ef5760>],\n",
       " 'medians': [<matplotlib.lines.Line2D at 0x18c51f0e880>],\n",
       " 'fliers': [<matplotlib.lines.Line2D at 0x18c51f0eb80>],\n",
       " 'means': []}"
      ]
     },
     "execution_count": 40,
     "metadata": {},
     "output_type": "execute_result"
    },
    {
     "data": {
      "image/png": "[encoded data removed]",
      "text/plain": [
       "<Figure size 432x288 with 1 Axes>"
      ]
     },
     "metadata": {
      "needs_background": "light"
     },
     "output_type": "display_data"
    }
   ],
   "source": [
    "# Use a boxplot to identify any possible outliers in the number of visits\n",
    "plt.boxplot(file_without_Nans['visit'])"
   ]
  },
  {
   "cell_type": "code",
   "execution_count": 43,
   "metadata": {},
   "outputs": [
    {
     "data": {
      "text/html": [
       "<div>\n",
       "<style scoped>\n",
       "    .dataframe tbody tr th:only-of-type {\n",
       "        vertical-align: middle;\n",
       "    }\n",
       "\n",
       "    .dataframe tbody tr th {\n",
       "        vertical-align: top;\n",
       "    }\n",
       "\n",
       "    .dataframe thead th {\n",
       "        text-align: right;\n",
       "    }\n",
       "</style>\n",
       "<table border=\"1\" class=\"dataframe\">\n",
       "  <thead>\n",
       "    <tr style=\"text-align: right;\">\n",
       "      <th></th>\n",
       "      <th>id</th>\n",
       "      <th>first_name</th>\n",
       "      <th>last_name</th>\n",
       "      <th>email</th>\n",
       "      <th>gender</th>\n",
       "      <th>ip_address</th>\n",
       "      <th>visit</th>\n",
       "    </tr>\n",
       "  </thead>\n",
       "  <tbody>\n",
       "    <tr>\n",
       "      <th>0</th>\n",
       "      <td>1</td>\n",
       "      <td>Sonny</td>\n",
       "      <td>Dahl</td>\n",
       "      <td>sdahl0@mysql.com</td>\n",
       "      <td>Male</td>\n",
       "      <td>135.36.96.183</td>\n",
       "      <td>1225.0</td>\n",
       "    </tr>\n",
       "    <tr>\n",
       "      <th>1</th>\n",
       "      <td>2</td>\n",
       "      <td>NaN</td>\n",
       "      <td>NaN</td>\n",
       "      <td>dhoovart1@hud.gov</td>\n",
       "      <td>NaN</td>\n",
       "      <td>237.165.194.143</td>\n",
       "      <td>919.0</td>\n",
       "    </tr>\n",
       "    <tr>\n",
       "      <th>2</th>\n",
       "      <td>3</td>\n",
       "      <td>Gar</td>\n",
       "      <td>Armal</td>\n",
       "      <td>garmal2@technorati.com</td>\n",
       "      <td>NaN</td>\n",
       "      <td>166.43.137.224</td>\n",
       "      <td>271.0</td>\n",
       "    </tr>\n",
       "    <tr>\n",
       "      <th>3</th>\n",
       "      <td>4</td>\n",
       "      <td>Chiarra</td>\n",
       "      <td>Nulty</td>\n",
       "      <td>cnulty3@newyorker.com</td>\n",
       "      <td>NaN</td>\n",
       "      <td>139.98.137.108</td>\n",
       "      <td>1002.0</td>\n",
       "    </tr>\n",
       "    <tr>\n",
       "      <th>4</th>\n",
       "      <td>5</td>\n",
       "      <td>NaN</td>\n",
       "      <td>NaN</td>\n",
       "      <td>sleaver4@elegantthemes.com</td>\n",
       "      <td>NaN</td>\n",
       "      <td>46.117.117.27</td>\n",
       "      <td>2434.0</td>\n",
       "    </tr>\n",
       "    <tr>\n",
       "      <th>...</th>\n",
       "      <td>...</td>\n",
       "      <td>...</td>\n",
       "      <td>...</td>\n",
       "      <td>...</td>\n",
       "      <td>...</td>\n",
       "      <td>...</td>\n",
       "      <td>...</td>\n",
       "    </tr>\n",
       "    <tr>\n",
       "      <th>994</th>\n",
       "      <td>995</td>\n",
       "      <td>NaN</td>\n",
       "      <td>NaN</td>\n",
       "      <td>hlowethrm@army.mil</td>\n",
       "      <td>Female</td>\n",
       "      <td>104.234.36.172</td>\n",
       "      <td>747.0</td>\n",
       "    </tr>\n",
       "    <tr>\n",
       "      <th>995</th>\n",
       "      <td>996</td>\n",
       "      <td>Averil</td>\n",
       "      <td>Pickover</td>\n",
       "      <td>apickoverrn@vk.com</td>\n",
       "      <td>Male</td>\n",
       "      <td>10.45.16.167</td>\n",
       "      <td>1305.0</td>\n",
       "    </tr>\n",
       "    <tr>\n",
       "      <th>996</th>\n",
       "      <td>997</td>\n",
       "      <td>Walton</td>\n",
       "      <td>Hallewell</td>\n",
       "      <td>whallewellro@nasa.gov</td>\n",
       "      <td>NaN</td>\n",
       "      <td>231.224.238.232</td>\n",
       "      <td>2531.0</td>\n",
       "    </tr>\n",
       "    <tr>\n",
       "      <th>998</th>\n",
       "      <td>999</td>\n",
       "      <td>Sapphira</td>\n",
       "      <td>Terron</td>\n",
       "      <td>sterronrq@wordpress.org</td>\n",
       "      <td>NaN</td>\n",
       "      <td>24.77.234.208</td>\n",
       "      <td>250.0</td>\n",
       "    </tr>\n",
       "    <tr>\n",
       "      <th>999</th>\n",
       "      <td>1000</td>\n",
       "      <td>NaN</td>\n",
       "      <td>NaN</td>\n",
       "      <td>jandreuzzirr@paginegialle.it</td>\n",
       "      <td>Male</td>\n",
       "      <td>211.136.66.144</td>\n",
       "      <td>2389.0</td>\n",
       "    </tr>\n",
       "  </tbody>\n",
       "</table>\n",
       "<p>923 rows × 7 columns</p>\n",
       "</div>"
      ],
      "text/plain": [
       "       id first_name  last_name                         email  gender  \\\n",
       "0       1      Sonny       Dahl              sdahl0@mysql.com    Male   \n",
       "1       2        NaN        NaN             dhoovart1@hud.gov     NaN   \n",
       "2       3        Gar      Armal        garmal2@technorati.com     NaN   \n",
       "3       4    Chiarra      Nulty         cnulty3@newyorker.com     NaN   \n",
       "4       5        NaN        NaN    sleaver4@elegantthemes.com     NaN   \n",
       "..    ...        ...        ...                           ...     ...   \n",
       "994   995        NaN        NaN            hlowethrm@army.mil  Female   \n",
       "995   996     Averil   Pickover            apickoverrn@vk.com    Male   \n",
       "996   997     Walton  Hallewell         whallewellro@nasa.gov     NaN   \n",
       "998   999   Sapphira     Terron       sterronrq@wordpress.org     NaN   \n",
       "999  1000        NaN        NaN  jandreuzzirr@paginegialle.it    Male   \n",
       "\n",
       "          ip_address   visit  \n",
       "0      135.36.96.183  1225.0  \n",
       "1    237.165.194.143   919.0  \n",
       "2     166.43.137.224   271.0  \n",
       "3     139.98.137.108  1002.0  \n",
       "4      46.117.117.27  2434.0  \n",
       "..               ...     ...  \n",
       "994   104.234.36.172   747.0  \n",
       "995     10.45.16.167  1305.0  \n",
       "996  231.224.238.232  2531.0  \n",
       "998    24.77.234.208   250.0  \n",
       "999   211.136.66.144  2389.0  \n",
       "\n",
       "[923 rows x 7 columns]"
      ]
     },
     "execution_count": 43,
     "metadata": {},
     "output_type": "execute_result"
    }
   ],
   "source": [
    "# The solutions file states that anything above 2900 or below 100 should be considered outliers. So i will use \n",
    "# subsetting to remove those rows. \n",
    "file_clean = file_without_Nans[(file_without_Nans['visit']>100) & (file_without_Nans['visit']<2900)]\n",
    "file_clean"
   ]
  },
  {
   "cell_type": "code",
   "execution_count": 44,
   "metadata": {},
   "outputs": [
    {
     "name": "stdout",
     "output_type": "stream",
     "text": [
      "26 rows were removed due to NaN values.\n",
      "51 rows were removed due to extreme values.\n"
     ]
    }
   ],
   "source": [
    "# Note the size difference after removing extreme values\n",
    "print(len(file)-len(file_without_Nans), \"rows were removed due to NaN values.\")\n",
    "print(len(file_without_Nans)-len(file_clean), \"rows were removed due to extreme values.\")"
   ]
  },
  {
   "cell_type": "markdown",
   "metadata": {},
   "source": [
    "***Exercise 3***"
   ]
  },
  {
   "cell_type": "code",
   "execution_count": 10,
   "metadata": {},
   "outputs": [],
   "source": [
    "# Import necessary libraries\n",
    "import sqlite3\n",
    "import pandas as pd"
   ]
  },
  {
   "cell_type": "code",
   "execution_count": 14,
   "metadata": {},
   "outputs": [],
   "source": [
    "# Create a query that will be used to insert headers and define fields of a SQL Lite database named test\n",
    "query = '''CREATE TABLE test\n",
    "(Name VARCHAR(20), Address VARCHAR(30), City VARCHAR(20), State VARCHAR(2), Zip INTEGER, Phone Number VARCHAR(11));'''"
   ]
  },
  {
   "cell_type": "code",
   "execution_count": 15,
   "metadata": {},
   "outputs": [],
   "source": [
    "# Connect to SQL Lite\n",
    "con = sqlite3.connect('mydata.sqlite')"
   ]
  },
  {
   "cell_type": "code",
   "execution_count": 16,
   "metadata": {},
   "outputs": [
    {
     "data": {
      "text/plain": [
       "<sqlite3.Cursor at 0x1baa8a89a40>"
      ]
     },
     "execution_count": 16,
     "metadata": {},
     "output_type": "execute_result"
    }
   ],
   "source": [
    "# Execute my query on the SQL Lite database, which inserts the headers of a table\n",
    "con.execute(query)"
   ]
  },
  {
   "cell_type": "code",
   "execution_count": 17,
   "metadata": {},
   "outputs": [],
   "source": [
    "# Commit my changes\n",
    "con.commit()"
   ]
  },
  {
   "cell_type": "code",
   "execution_count": 18,
   "metadata": {},
   "outputs": [],
   "source": [
    "# Create the data that will populate the rows\n",
    "data = [('John Smith', '21223 E Oak St', 'Byers', 'CO', 80001, '303-220-7867'),\n",
    "       ('Jane Doe', '1234 Elm Street', 'Denver', 'CO', 81115, '720-444-8787'), \n",
    "       ('Missy Eliot', '56 Arbuckle Avenue', 'Los Angelas', 'CA', 54321, '806-576-1123'),\n",
    "       ('Donald Trump', '112 Pennsylvania Ave', 'Washington DC', 'DC', 90090, '432-6565-0000'),\n",
    "       ('Ally Brown', '8282 Cardinal Street', 'Spokane', 'WA', 42232, '818-777-5555'),\n",
    "       ('Armando Lopez', '212 S Parnell St', 'San Antonio', 'TX', 22121, '202-334-5678'),\n",
    "       ('Elouise Smith', '287 Coppertown Rd', 'Dallas', 'TX', 77898, '202-443-2343'),\n",
    "       ('Sean O\"Connery', '76 Hollywood Blvd', 'Hollywood', 'CA', 65437, '666-909-8888'),\n",
    "       ('Seymore Butts', '89912 E Fairfield Ave', 'Fairfield', 'IL', 90012, '421-765-0980'),\n",
    "       ('Bart Simpson', '2213 Imagination Lane', 'Lansing', 'MI', 32594, '255-478-3794')]"
   ]
  },
  {
   "cell_type": "code",
   "execution_count": 22,
   "metadata": {},
   "outputs": [],
   "source": [
    "# Create the statement that will insert the values into the test database\n",
    "stmt = \"INSERT INTO test Values(?,?,?,?,?,?)\""
   ]
  },
  {
   "cell_type": "code",
   "execution_count": 29,
   "metadata": {
    "scrolled": true
   },
   "outputs": [
    {
     "data": {
      "text/plain": [
       "<sqlite3.Cursor at 0x1baa8a9b570>"
      ]
     },
     "execution_count": 29,
     "metadata": {},
     "output_type": "execute_result"
    }
   ],
   "source": [
    "# Enter the data into the database\n",
    "con.executemany(stmt, data)"
   ]
  },
  {
   "cell_type": "code",
   "execution_count": 30,
   "metadata": {},
   "outputs": [],
   "source": [
    "# Commit my changes\n",
    "con.commit()"
   ]
  },
  {
   "cell_type": "code",
   "execution_count": 31,
   "metadata": {},
   "outputs": [],
   "source": [
    "# Create a query that will select items from the test database\n",
    "cursor = con.execute('select * from test')"
   ]
  },
  {
   "cell_type": "code",
   "execution_count": 32,
   "metadata": {
    "scrolled": true
   },
   "outputs": [
    {
     "data": {
      "text/plain": [
       "[('John Smith', '21223 E Oak St', 'Byers', 'CO', 80001, '303-220-7867'),\n",
       " ('Jane Doe', '1234 Elm Street', 'Denver', 'CO', 81115, '720-444-8787'),\n",
       " ('Missy Eliot',\n",
       "  '56 Arbuckle Avenue',\n",
       "  'Los Angelas',\n",
       "  'CA',\n",
       "  54321,\n",
       "  '806-576-1123'),\n",
       " ('Donald Trump',\n",
       "  '112 Pennsylvania Ave',\n",
       "  'Washington DC',\n",
       "  'DC',\n",
       "  90090,\n",
       "  '432-6565-0000'),\n",
       " ('Ally Brown',\n",
       "  '8282 Cardinal Street',\n",
       "  'Spokane',\n",
       "  'WA',\n",
       "  42232,\n",
       "  '818-777-5555'),\n",
       " ('Armando Lopez',\n",
       "  '212 S Parnell St',\n",
       "  'San Antonio',\n",
       "  'TX',\n",
       "  22121,\n",
       "  '202-334-5678'),\n",
       " ('Elouise Smith', '287 Coppertown Rd', 'Dallas', 'TX', 77898, '202-443-2343'),\n",
       " ('Sean O\"Connery',\n",
       "  '76 Hollywood Blvd',\n",
       "  'Hollywood',\n",
       "  'CA',\n",
       "  65437,\n",
       "  '666-909-8888'),\n",
       " ('Seymore Butts',\n",
       "  '89912 E Fairfield Ave',\n",
       "  'Fairfield',\n",
       "  'IL',\n",
       "  90012,\n",
       "  '421-765-0980'),\n",
       " ('Bart Simpson',\n",
       "  '2213 Imagination Lane',\n",
       "  'Lansing',\n",
       "  'MI',\n",
       "  32594,\n",
       "  '255-478-3794'),\n",
       " ('John Smith', '21223 E Oak St', 'Byers', 'CO', 80001, '303-220-7867'),\n",
       " ('Jane Doe', '1234 Elm Street', 'Denver', 'CO', 81115, '720-444-8787'),\n",
       " ('Missy Eliot',\n",
       "  '56 Arbuckle Avenue',\n",
       "  'Los Angelas',\n",
       "  'CA',\n",
       "  54321,\n",
       "  '806-576-1123'),\n",
       " ('Donald Trump',\n",
       "  '112 Pennsylvania Ave',\n",
       "  'Washington DC',\n",
       "  'DC',\n",
       "  90090,\n",
       "  '432-6565-0000'),\n",
       " ('Ally Brown',\n",
       "  '8282 Cardinal Street',\n",
       "  'Spokane',\n",
       "  'WA',\n",
       "  42232,\n",
       "  '818-777-5555'),\n",
       " ('Armando Lopez',\n",
       "  '212 S Parnell St',\n",
       "  'San Antonio',\n",
       "  'TX',\n",
       "  22121,\n",
       "  '202-334-5678'),\n",
       " ('Elouise Smith', '287 Coppertown Rd', 'Dallas', 'TX', 77898, '202-443-2343'),\n",
       " ('Sean O\"Connery',\n",
       "  '76 Hollywood Blvd',\n",
       "  'Hollywood',\n",
       "  'CA',\n",
       "  65437,\n",
       "  '666-909-8888'),\n",
       " ('Seymore Butts',\n",
       "  '89912 E Fairfield Ave',\n",
       "  'Fairfield',\n",
       "  'IL',\n",
       "  90012,\n",
       "  '421-765-0980'),\n",
       " ('Bart Simpson',\n",
       "  '2213 Imagination Lane',\n",
       "  'Lansing',\n",
       "  'MI',\n",
       "  32594,\n",
       "  '255-478-3794')]"
      ]
     },
     "execution_count": 32,
     "metadata": {},
     "output_type": "execute_result"
    }
   ],
   "source": [
    "# Create a variable that will house all the rows from the database after conducting the query\n",
    "rows = cursor.fetchall()\n",
    "rows"
   ]
  },
  {
   "cell_type": "code",
   "execution_count": null,
   "metadata": {},
   "outputs": [],
   "source": [
    "# Well I'm not sure why it didn't display all rows the same as the first two, but at least I got them. \n",
    "# I did notice however, that the fetchall actually takes the data out of the database, not just copying it. "
   ]
  }
 ],
 "metadata": {
  "kernelspec": {
   "display_name": "Python 3",
   "language": "python",
   "name": "python3"
  },
  "language_info": {
   "codemirror_mode": {
    "name": "ipython",
    "version": 3
   },
   "file_extension": ".py",
   "mimetype": "text/x-python",
   "name": "python",
   "nbconvert_exporter": "python",
   "pygments_lexer": "ipython3",
   "version": "3.8.3"
  }
 },
 "nbformat": 4,
 "nbformat_minor": 4
}
